{
 "cells": [
  {
   "cell_type": "markdown",
   "id": "1453fbd5e471a5cd",
   "metadata": {},
   "source": [
    "# Аттестация №1"
   ]
  },
  {
   "cell_type": "markdown",
   "id": "1db49e463da46021",
   "metadata": {},
   "source": [
    "### Задание №1\n",
    "Напишите программу, которая принимает словарь `input_dict` и возвращает строку вида: `ключ=значение&ключ=значение`\n",
    "\n",
    "Строка должна быть лексикографически отсортирована по ключам исходного словаря. Сохраните полученный ответ в `result`."
   ]
  },
  {
   "cell_type": "code",
   "execution_count": 1,
   "id": "initial_id",
   "metadata": {
    "ExecuteTime": {
     "end_time": "2024-12-09T13:15:08.317204Z",
     "start_time": "2024-12-09T13:15:08.313520Z"
    }
   },
   "outputs": [],
   "source": [
    "input_dict = {'lesson': 2, 'task': 4, 'course': 'python'}\n",
    "result = 'course=python&lesson=2&task=4'"
   ]
  },
  {
   "cell_type": "code",
   "execution_count": 15,
   "id": "4025e26c2e18bc2f",
   "metadata": {},
   "outputs": [
    {
     "name": "stdout",
     "output_type": "stream",
     "text": [
      "course=python&lesson=2&task=4\n"
     ]
    }
   ],
   "source": [
    "# Напиши решение тут\n",
    "input_dict = {'lesson': 2, 'task': 4, 'course': 'python'}\n",
    "\n",
    "sorted_dict = dict(sorted(input_dict.items()))\n",
    "result = \"&\".join(str(x)+\"=\"+str(y) for x,y in sorted_dict.items())\n",
    "print(result)"
   ]
  },
  {
   "cell_type": "markdown",
   "id": "782b3120fa932c5d",
   "metadata": {},
   "source": [
    "### Задание №2\n",
    "Напишите программу, которая будет принимать число n и проверять, кратна ли каждая его цифра цифре, стоящей слева от нее. Ответ сохраните в `result` в виде массива булевых значений результатов проверок.\n",
    "\n",
    "`result` всегда должен начинаться с False, так как слева от первой цифры ничего нет.\n",
    "\n",
    "Пример:\n",
    "```python\n",
    "n = 462825624\n",
    "result = [False, False, False, True, False, False, False, False, True]\n",
    "```"
   ]
  },
  {
   "cell_type": "code",
   "execution_count": 2,
   "id": "657f2f13cbfa3383",
   "metadata": {
    "ExecuteTime": {
     "end_time": "2024-12-17T21:00:28.477188Z",
     "start_time": "2024-12-17T21:00:28.475122Z"
    }
   },
   "outputs": [
    {
     "name": "stdout",
     "output_type": "stream",
     "text": [
      "[False, False, False, True, False, False, False, False, True]\n"
     ]
    }
   ],
   "source": [
    "# Напиши решение тут\n",
    "n = 462825624\n",
    "\n",
    "str_n = str(n)\n",
    "result = [False]\n",
    "\n",
    "for i in range(1,len(str_n)):\n",
    "    if(int(str_n[i-1]) != 0):\n",
    "        result.append(int(str_n[i])%int(str_n[i-1])==0)\n",
    "\n",
    "print(result)"
   ]
  },
  {
   "cell_type": "markdown",
   "id": "68f16e7b8c3ee89b",
   "metadata": {},
   "source": [
    "### Задание №3\n",
    "Напишите программу, которая анализирует введенный текст и возвращает статистику. Требуется реализовать **несколько функций**, каждая из которых будет выполнять определенную задачу.\n",
    "\n",
    "---\n",
    "\n",
    "**Остановимся более подробно:**\n",
    "1. Напишите функцию **`count_letters(text)`**, которая возвращает количество букв (только латиницы и кириллицы) в тексте.\n",
    "2. Напишите функцию **`count_digits(text)`**, которая возвращает количество цифр.\n",
    "3. Напишите функцию **`count_words(text)`**, которая возвращает количество слов. Слово — это последовательность букв.\n",
    "4. Напишите функцию **`analyze_text(text)`**, которая вызывает все вышеперечисленные функции и возвращает общий результат в виде словаря:\n",
    "   ```python\n",
    "   {\n",
    "       \"letters\": <количество букв>,\n",
    "       \"digits\": <количество цифр>,\n",
    "       \"words\": <количество слов>\n",
    "   }\n",
    "   ```\n",
    "5. Выведите результат работы функции **`analyze_text`** для введенной строки.\n",
    "\n",
    "\n",
    "**Пример работы программы:**\n",
    "\n",
    "Ввод:\n",
    "```\n",
    "Введите текст: Привет, это тестовый текст 123, с 7 словами!\n",
    "```\n",
    "\n",
    "Вывод:\n",
    "```\n",
    "Анализ текста:\n",
    "Количество букв: 24\n",
    "Количество цифр: 4\n",
    "Количество слов: 7\n",
    "```\n",
    "\n",
    "\n",
    "\n"
   ]
  },
  {
   "cell_type": "code",
   "execution_count": 3,
   "id": "dc3147cbb4f8da7c",
   "metadata": {},
   "outputs": [
    {
     "name": "stdin",
     "output_type": "stream",
     "text": [
      "Enter string:  Привет, это тестовый текст 123, с 7 словами!\n"
     ]
    },
    {
     "name": "stdout",
     "output_type": "stream",
     "text": [
      "Analysis of text: \n",
      "Count of letters: 30\n",
      "Count of digits: 4\n",
      "Count of words: 6\n"
     ]
    }
   ],
   "source": [
    "# Напиши решение тут\n",
    "import re\n",
    "\n",
    "def count_letters(text):\n",
    "    return len(re.findall(r\"[A-Za-zА-Яа-я]\",text))\n",
    "\n",
    "def count_digits(text):\n",
    "    return len(re.findall(r\"\\d\",text))\n",
    "\n",
    "def count_words(text):\n",
    "    return len(re.findall(r\"[A-Za-zА-Яа-я]+\",text))\n",
    "\n",
    "def analyze_text(text):\n",
    "    return {\n",
    "        \"letters\" : count_letters(text),\n",
    "        \"digits\" : count_digits(text),\n",
    "        \"words\" :count_words(text)\n",
    "    }\n",
    "\n",
    "input_str = input(\"Enter string: \")\n",
    "result = analyze_text(input_str)\n",
    "\n",
    "print(\"Analysis of text: \")\n",
    "print(f\"Count of letters: {result['letters']}\")\n",
    "print(f\"Count of digits: {result['digits']}\")\n",
    "print(f\"Count of words: {result['words']}\")"
   ]
  },
  {
   "cell_type": "markdown",
   "id": "9b4c0041c65b1ef2",
   "metadata": {},
   "source": [
    "### Задача: Распределение учеников по факультетам Хогвартса\n",
    "\n",
    "В Хогвартсе проходит церемония распределения первокурсников. На основании качеств, которые видит распределяющая шляпа, учеников зачисляют на один из факультетов:  \n",
    "\n",
    "- **Гриффиндор**: отвага, доброта, решительность.  \n",
    "- **Пуффендуй**: усердие, дружелюбие, терпимость.  \n",
    "- **Когтевран**: знание, изобретательность, рассудительность.  \n",
    "- **Слизерин**: амбиции, находчивость, целеустремленность.  \n",
    "\n",
    "Необходимо реализовать функцию `sorting_hat()`, которая принимает словарь с учениками, где:  \n",
    "- **Ключ** — имя ученика.  \n",
    "- **Значение** — качество, определяющее его факультет.  \n",
    "\n",
    "Функция должна вернуть два результата:  \n",
    "\n",
    "1. **sorted_students** — словарь, где ключ — имя ученика, а значение — факультет, на который он зачислен.  \n",
    "   - Данные должны быть отсортированы по названию факультета, а затем по имени ученика.  \n",
    "\n",
    "2. **departments** — словарь, где ключ — факультет, а значение — количество зачисленных учеников.  \n",
    "   - Данные должны быть отсортированы по названию факультета.  \n",
    "\n",
    "### Пример входных данных:  \n",
    "```python\n",
    "new_students = {\n",
    "    'Сириус Блэк': 'отвага',\n",
    "    'Аманда Коршун': 'знание',\n",
    "    'Пенелопа Вулпинголд': 'находчивость',\n",
    "    'Артур Поттер': 'отвага',\n",
    "    'Тесая Блэк': 'изобретательность'\n",
    "}\n",
    "```\n",
    "\n",
    "### Пример результата:  \n",
    "```python\n",
    "# sorted_students:\n",
    "{\n",
    "    'Артур Поттер': 'Гриффиндор',\n",
    "    'Сириус Блэк': 'Гриффиндор',\n",
    "    'Аманда Коршун': 'Когтевран',\n",
    "    'Тесая Блэк': 'Когтевран',\n",
    "    'Пенелопа Вулпинголд': 'Слизерин'\n",
    "}\n",
    "\n",
    "# departments:\n",
    "{\n",
    "    'Гриффиндор': 2,\n",
    "    'Когтевран': 2,\n",
    "    'Пуффендуй': 0,\n",
    "    'Слизерин': 1\n",
    "}\n",
    "```"
   ]
  },
  {
   "cell_type": "code",
   "execution_count": 10,
   "id": "4385d4b355c7121f",
   "metadata": {},
   "outputs": [
    {
     "name": "stdout",
     "output_type": "stream",
     "text": [
      "Students:  {'Артур Поттер': 'Гриффиндор', 'Сириус Блэк': 'Гриффиндор', 'Аманда Коршун': 'Когтевран', 'Тесая Блэк': 'Когтевран', 'Пенелопа Вулпинголд': 'Слизерин'}\n",
      "Departments:  {'Гриффиндор': 2, 'Когтевран': 2, 'Пуффендуй': 0, 'Слизерин': 1}\n"
     ]
    }
   ],
   "source": [
    "# Напиши решение тут\n",
    "def sorting_hat(students_dict):\n",
    "    sorted_students = {}\n",
    "    departments = {\"Гриффиндор\" : 0,\"Пуффендуй\" : 0,\"Когтевран\" : 0,\"Слизерин\" : 0 }\n",
    "    for x,y in students_dict.items():\n",
    "        if(y==\"отвага\" or y==\"доброта\" or y==\"решительность\"):\n",
    "            sorted_students[x] = \"Гриффиндор\"\n",
    "        elif(y==\"усердие\" or y==\"дружелюбие\" or y==\"терпимость\"):\n",
    "            sorted_students[x] = \"Пуффендуй\"\n",
    "        elif(y==\"знание\" or y==\"изобретательность\" or y==\"рассудительность\"):\n",
    "            sorted_students[x] = \"Когтевран\"\n",
    "        elif(y==\"амбиции\" or y==\"находчивость\" or y==\"целеустремленность\"):\n",
    "            sorted_students[x] = \"Слизерин\"\n",
    "\n",
    "    sorted_students = dict(sorted(sorted_students.items(), key=lambda x: (x[1],x[0])))\n",
    "\n",
    "    for x in sorted_students.values():\n",
    "        departments[x] = departments.get(x,0) + 1\n",
    "\n",
    "    departments = dict(sorted(departments.items()))\n",
    "\n",
    "    return sorted_students,departments\n",
    "\n",
    "new_students = {\n",
    "    'Сириус Блэк': 'отвага',\n",
    "    'Аманда Коршун': 'знание',\n",
    "    'Пенелопа Вулпинголд': 'находчивость',\n",
    "    'Артур Поттер': 'отвага',\n",
    "    'Тесая Блэк': 'изобретательность'\n",
    "}\n",
    "\n",
    "sort_stud,depar = sorting_hat(new_students)\n",
    "print(\"Students: \", sort_stud)\n",
    "print(\"Departments: \", depar)"
   ]
  },
  {
   "cell_type": "markdown",
   "id": "ac789ebd9aa897d9",
   "metadata": {},
   "source": [
    "### Задание №5\n",
    "В `my_string`  хранится зашифрованная строка, например:\n",
    "```python\n",
    "# Зашифрованная строка\n",
    "my_string = 'sccfxpzijc is fuc bcd sxcizicg'\n",
    "```\n",
    "В словаре `secret_dict`  хранится ключ к шифру, набор символов, которые нужно заменить:\n",
    "```python\n",
    "# Словарь шифра\n",
    "\n",
    "secret_dict = {\n",
    "'v': 'w',\n",
    "'x': 'y',\n",
    "'i': 'h',\n",
    "'q': 'l',\n",
    "'c': 'n',\n",
    "'o': 'm',\n",
    "'b': 'a',\n",
    "'f': 'r',\n",
    "'j': 'o',\n",
    "'s': 'e',\n",
    "'z': 't',\n",
    "'g': 'k',\n",
    "'l': ' ',\n",
    "'k': 'c',\n",
    "'m': 'p',\n",
    "'n': 'i',\n",
    "'w': 's',\n",
    "'d': 'f',\n",
    "'u': 'u',\n",
    "'r': 'd',\n",
    "'e': 'x',\n",
    "'y': 'g'}\n",
    "```\n",
    "Таким образом, словарь `secret_dict` говорит нам, что в строке `my_string` букву `v` нужно заменить на `m`, `s` на 'e' и т. д. Если мы сделаем такие замены в строке my_string, то `sckfxmznjclnwlduclbcrlseknzncy` превратится в `encryption is fun and exciting`.\n",
    "\n",
    "Напишите программу, которая расшифровывает строку `my_string = 'nlbolyjccblyszlblzsclnclmxzijc'` при помощи словаря secret_dict. Расшифрованную строку сохраните в переменную decrypted_string."
   ]
  },
  {
   "cell_type": "code",
   "execution_count": 14,
   "id": "48c201ee026f8ae5",
   "metadata": {
    "ExecuteTime": {
     "end_time": "2024-12-17T20:56:24.178896Z",
     "start_time": "2024-12-17T20:56:24.175887Z"
    }
   },
   "outputs": [
    {
     "name": "stdout",
     "output_type": "stream",
     "text": [
      "i am gonna get a ten in python\n"
     ]
    }
   ],
   "source": [
    "# Напиши решение тут\n",
    "secret_dict = {\n",
    "'v': 'w',\n",
    "'x': 'y',\n",
    "'i': 'h',\n",
    "'q': 'l',\n",
    "'c': 'n',\n",
    "'o': 'm',\n",
    "'b': 'a',\n",
    "'f': 'r',\n",
    "'j': 'o',\n",
    "'s': 'e',\n",
    "'z': 't',\n",
    "'g': 'k',\n",
    "'l': ' ',\n",
    "'k': 'c',\n",
    "'m': 'p',\n",
    "'n': 'i',\n",
    "'w': 's',\n",
    "'d': 'f',\n",
    "'u': 'u',\n",
    "'r': 'd',\n",
    "'e': 'x',\n",
    "'y': 'g'}\n",
    "\n",
    "def decrypt_string(text):\n",
    "    return ''.join(secret_dict.get(c,c) for c in text)\n",
    "\n",
    "my_string = 'nlbolyjccblyszlblzsclnclmxzijc'\n",
    "decrypted_string = decrypt_string(my_string)\n",
    "print(decrypted_string)"
   ]
  }
 ],
 "metadata": {
  "kernelspec": {
   "display_name": "Python 3 (ipykernel)",
   "language": "python",
   "name": "python3"
  },
  "language_info": {
   "codemirror_mode": {
    "name": "ipython",
    "version": 3
   },
   "file_extension": ".py",
   "mimetype": "text/x-python",
   "name": "python",
   "nbconvert_exporter": "python",
   "pygments_lexer": "ipython3",
   "version": "3.13.1"
  }
 },
 "nbformat": 4,
 "nbformat_minor": 5
}
