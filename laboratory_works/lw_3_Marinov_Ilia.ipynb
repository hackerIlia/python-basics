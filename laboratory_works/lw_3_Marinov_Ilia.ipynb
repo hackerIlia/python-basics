{
 "cells": [
  {
   "cell_type": "markdown",
   "id": "e9c397d9723b81f9",
   "metadata": {},
   "source": [
    "# Лабораторная №3"
   ]
  },
  {
   "cell_type": "markdown",
   "id": "e9126e1929543902",
   "metadata": {},
   "source": [
    "## Регулярные выражения"
   ]
  },
  {
   "cell_type": "markdown",
   "id": "5c13064c49a1b748",
   "metadata": {},
   "source": [
    "В нашем магазине все товарные коды всегда имеют формат \"B123\", где \"B\" — это буква, а \"123\" — цифры. Напишите программу, которая проверяет, соответствует ли товарный код этому формату."
   ]
  },
  {
   "cell_type": "code",
   "execution_count": null,
   "id": "5be394ea56bf93bc",
   "metadata": {},
   "outputs": [],
   "source": [
    "import re"
   ]
  },
  {
   "cell_type": "code",
   "execution_count": 3,
   "id": "initial_id",
   "metadata": {
    "ExecuteTime": {
     "end_time": "2024-12-09T12:27:44.569398Z",
     "start_time": "2024-12-09T12:27:44.567658Z"
    }
   },
   "outputs": [
    {
     "name": "stdout",
     "output_type": "stream",
     "text": [
      "True\n"
     ]
    }
   ],
   "source": [
    "import re\n",
    "\n",
    "def check_product_code(code):\n",
    "    # Напиши решение тут\n",
    "    if re.match(r\"^[A-Z]\\d{3}$\",code):\n",
    "        return True\n",
    "    else: return False\n",
    "\n",
    "\n",
    "product_code  = \"B310\"\n",
    "result = check_product_code(product_code)\n",
    "print(result)\n"
   ]
  },
  {
   "cell_type": "markdown",
   "id": "4bc60da9bced479c",
   "metadata": {},
   "source": [
    "Нам часто поступает список книг в виде строки, где данные о каждой книге разделены пробелами или запятыми. Напишите программу, которая будет извлекать информацию о каждой книге (название, автор, год издания) и выводить их по категориям."
   ]
  },
  {
   "cell_type": "code",
   "execution_count": 19,
   "id": "b4dd5b399b1fb610",
   "metadata": {
    "ExecuteTime": {
     "end_time": "2024-12-09T12:43:35.644847Z",
     "start_time": "2024-12-09T12:43:35.640972Z"
    }
   },
   "outputs": [
    {
     "name": "stdout",
     "output_type": "stream",
     "text": [
      "Titles: ['The Great Gatsby', '1984', 'To Kill a Mockingbird']\n",
      "Authors: ['F. Scott Fitzgerald', 'George Orwell', 'Harper Lee']\n",
      "Years: [1925, 1949, 1960]\n"
     ]
    }
   ],
   "source": [
    "import re\n",
    "\n",
    "def extract_book_info(data):\n",
    "    # Напиши решение тут\n",
    "    pattern = r\"([^,]+),([^,]+),(\\d{4})\"\n",
    "    matches = re.findall(pattern,data)\n",
    "\n",
    "    titles = [match[0].strip() for match in matches]\n",
    "    authors = [match[1].strip() for match in matches]\n",
    "    years = [int(match[2]) for match in matches]\n",
    "    return titles,authors,years\n",
    "\n",
    "\n",
    "data = \"The Great Gatsby,F. Scott Fitzgerald,1925,1984,George Orwell,1949,To Kill a Mockingbird,Harper Lee,1960\"\n",
    "titles, authors, years = extract_book_info(data)\n",
    "\n",
    "\n",
    "print(\"Titles:\", titles)\n",
    "print(\"Authors:\", authors)\n",
    "print(\"Years:\", years)"
   ]
  },
  {
   "cell_type": "markdown",
   "id": "3bb615a06135b91a",
   "metadata": {},
   "source": [
    "Нам необходимо собирать контактные данные клиентов.\n",
    "Напишите программу, которая проверяет, соответствует ли введенный адрес электронной почты клиента **правильному** формату."
   ]
  },
  {
   "cell_type": "markdown",
   "id": "ac585e1b9812306b",
   "metadata": {},
   "source": [
    "Правильный формат адреса электронной почты обычно определяется следующими правилами:\n",
    "\n",
    "1. **Имя пользователя (local part)**:\n",
    "   - Может содержать буквы, цифры, точки (`.`), дефисы (`-`), знаки подчеркивания (`_`).\n",
    "   - Не может начинаться или заканчиваться точкой (`.`).\n",
    "   - Не допускается последовательность точек (`..`).\n",
    "\n",
    "2. **Символ `@`**:\n",
    "   - Разделяет имя пользователя и домен.\n",
    "   - Должен присутствовать ровно один раз.\n",
    "\n",
    "3. **Доменная часть (domain)**:\n",
    "   - Состоит из букв, цифр, дефисов (`-`) и точек (`.`).\n",
    "   - Должен содержать хотя бы одну точку.\n",
    "   - Доменное имя не может начинаться или заканчиваться дефисом (`-`) или точкой (`.`).\n",
    "\n",
    "4. **Домен верхнего уровня (TLD)**:\n",
    "   - Обычно состоит из 2 или более букв (например, `.com`, `.org`, `.ru`).\n",
    "\n",
    "\n",
    "\n",
    "#### Примеры ввода и проверки:\n",
    "- **Допустимые адреса**:\n",
    "  - `example@gmail.com`\n",
    "  - `user.name@sub.domain.org`\n",
    "  - `first_last123@domain.co.uk`\n",
    "\n",
    "- **Недопустимые адреса**:\n",
    "  - `user@.com` (домен не может начинаться с точки)\n",
    "  - `@domain.com` (нет имени пользователя)\n",
    "  - `user@domain` (нет TLD)\n",
    "  - `user@@domain.com` (две `@`)"
   ]
  },
  {
   "cell_type": "code",
   "execution_count": 94,
   "id": "20e834bfb2499f8c",
   "metadata": {
    "ExecuteTime": {
     "end_time": "2024-12-09T22:35:30.798046Z",
     "start_time": "2024-12-09T22:35:30.786449Z"
    }
   },
   "outputs": [
    {
     "name": "stdout",
     "output_type": "stream",
     "text": [
      "True\n"
     ]
    }
   ],
   "source": [
    "import re\n",
    "\n",
    "def check_email_format(email):\n",
    "    # Напиши решение тут\n",
    "    #pattern = r\"^(?!.*\\.\\.|.*\\.@)[A-Za-z0-9._%+-]+@[A-Za-z0-9.-]+\\.[A-Za-z]{2,}$\"\n",
    "    pattern = r\"^(?!\\.)(?!.*\\.\\.|.*\\.@)[A-Za-z0-9._%+-]+@(?!\\.|\\-)[A-Za-z0-9-.]+\\.[A-Za-z]{2,}(?!\\.|\\-)$\"\n",
    "    return re.match(pattern,email) is not None\n",
    "\n",
    "\n",
    "email = \"user@domain.mi\"\n",
    "result = check_email_format(email)\n",
    "print(result)  # True\n"
   ]
  },
  {
   "cell_type": "markdown",
   "id": "1cbf05c36d87598d",
   "metadata": {},
   "source": [
    "Иногда клиенты могут указывать свои пищевые ограничения.\n",
    "Напишите программу, которая проверяет, упоминаются ли в записи ограничения на определенные продукты, такие как \"глютен\", \"лактоза\" или \"орехи\"."
   ]
  },
  {
   "cell_type": "code",
   "execution_count": 2,
   "id": "4310d3bfe276a135",
   "metadata": {},
   "outputs": [
    {
     "name": "stdout",
     "output_type": "stream",
     "text": [
      "Dietary restrictions detected.\n"
     ]
    }
   ],
   "source": [
    "import re\n",
    "\n",
    "def check_restrictions(data):\n",
    "    # Напиши решение тут\n",
    "    restrictions = ['gluten','lactose','nuts']\n",
    "\n",
    "    for restr in restrictions:\n",
    "        if(re.search(r'\\b' + re.escape(restr) + r'\\b',data.lower())):\n",
    "            return True\n",
    "\n",
    "    return False\n",
    "\n",
    "client_data = \"My diet excludes products containing lactose and gluten.\"\n",
    "if check_restrictions(client_data):\n",
    "    print(\"Dietary restrictions detected.\")\n",
    "else:\n",
    "    print(\"No dietary restrictions detected.\")"
   ]
  },
  {
   "cell_type": "markdown",
   "id": "e8561ff50da1f5f8",
   "metadata": {},
   "source": [
    "Предположим, у вас есть текст, который может содержать несколько телефонных номеров. Каждый номер телефона записан в формате:\n",
    "\n",
    "- `(XXX) XXX-XXXX`\n",
    "- `XXX-XXX-XXXX`\n",
    "- `XXX.XXX.XXXX`\n",
    "- `XXX XXX XXXX`\n",
    "\n",
    "Где `X` — цифра от 0 до 9.\n",
    "\n",
    "Напишите программу, которая будет искать все телефонные номера в тексте и выводить их.\n"
   ]
  },
  {
   "cell_type": "code",
   "execution_count": 113,
   "id": "2e021001b77dffe7",
   "metadata": {},
   "outputs": [
    {
     "name": "stdout",
     "output_type": "stream",
     "text": [
      "['(123) 456-7890', '987-654-3210', '555.555.5555', '111 222 3333']\n"
     ]
    }
   ],
   "source": [
    "import re\n",
    "\n",
    "def extract_phone_numbers(text):\n",
    "    # Напиши решение тут\n",
    "    return re.findall(r\"\\(?\\d{3}\\)?[\\s.\\-]?\\d{3}[\\s.\\-]?\\d{4}\",text)\n",
    "\n",
    "text = \"Hi, here are some phone numbers: (123) 456-7890, 987-654-3210, 555.555.5555, 111 222 3333.\"\n",
    "print(extract_phone_numbers(text)) #['(123) 456-7890', '987-654-3210', '555.555.5555', '111 222 3333']"
   ]
  }
 ],
 "metadata": {
  "kernelspec": {
   "display_name": "Python 3 (ipykernel)",
   "language": "python",
   "name": "python3"
  },
  "language_info": {
   "codemirror_mode": {
    "name": "ipython",
    "version": 3
   },
   "file_extension": ".py",
   "mimetype": "text/x-python",
   "name": "python",
   "nbconvert_exporter": "python",
   "pygments_lexer": "ipython3",
   "version": "3.13.1"
  }
 },
 "nbformat": 4,
 "nbformat_minor": 5
}
